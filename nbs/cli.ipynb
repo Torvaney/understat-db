{
 "cells": [
  {
   "cell_type": "code",
   "execution_count": null,
   "metadata": {},
   "outputs": [],
   "source": [
    "# default_exp cli"
   ]
  },
  {
   "cell_type": "markdown",
   "metadata": {},
   "source": [
    "# Understat-DB CLI\n",
    "\n",
    "> CLI for creating a soccer database with data from understat.com"
   ]
  },
  {
   "cell_type": "code",
   "execution_count": null,
   "metadata": {},
   "outputs": [],
   "source": [
    "#hide\n",
    "from nbdev.showdoc import *"
   ]
  },
  {
   "cell_type": "markdown",
   "metadata": {},
   "source": [
    "Initialise the app with Typer"
   ]
  },
  {
   "cell_type": "code",
   "execution_count": null,
   "metadata": {},
   "outputs": [],
   "source": [
    "#export\n",
    "import os\n",
    "import functools\n",
    "import itertools\n",
    "import pathlib\n",
    "import typing\n",
    "import time\n",
    "\n",
    "import dbt.main\n",
    "import dotenv\n",
    "import playhouse.postgres_ext\n",
    "import pyprojroot\n",
    "import typer\n",
    "\n",
    "import understatdb\n",
    "\n",
    "\n",
    "app = typer.Typer()"
   ]
  },
  {
   "cell_type": "code",
   "execution_count": null,
   "metadata": {},
   "outputs": [],
   "source": [
    "#exporti\n",
    "\n",
    "\n",
    "def initialize_db():\n",
    "    # Load database config from environment\n",
    "    postgres_db = playhouse.postgres_ext.PostgresqlExtDatabase(\n",
    "        host=os.environ['DB_HOST'],\n",
    "        user=os.environ['DB_USER'],\n",
    "        password=os.environ['DB_PASS'],\n",
    "        database=os.environ['DB_NAME'],\n",
    "        port=os.environ['DB_PORT'],\n",
    "    )\n",
    "\n",
    "    # Configure proxy database to use configured postgres\n",
    "    typer.secho('Initialising database connection...', fg=typer.colors.BRIGHT_BLACK)\n",
    "    understatdb.db.DB.initialize(postgres_db)"
   ]
  },
  {
   "cell_type": "markdown",
   "metadata": {},
   "source": [
    "## Migrate\n",
    "\n",
    "Migrating the database"
   ]
  },
  {
   "cell_type": "code",
   "execution_count": null,
   "metadata": {},
   "outputs": [],
   "source": [
    "#export\n",
    "\n",
    "\n",
    "@app.command()\n",
    "def migrate(interactive: bool = True):\n",
    "    \"\"\" Migrate database to the current schema (as defined in nbs/db.ipynb) \"\"\"\n",
    "    \n",
    "    initialize_db()\n",
    "    \n",
    "    # Migrate database tables\n",
    "    typer.secho('Migrating database tables...', fg=typer.colors.BRIGHT_BLACK)\n",
    "    understatdb.db.DB.evolve(\n",
    "        ignore_tables=understatdb.db.EVOLVE_IGNORE_TABLES,\n",
    "        interactive=interactive\n",
    "    )\n",
    "    typer.secho('Done!', fg=typer.colors.GREEN, bold=True)"
   ]
  },
  {
   "cell_type": "markdown",
   "metadata": {},
   "source": [
    "## dbt runner\n",
    "\n",
    "(Re-)build tables from base data using dbt (data-build-tool)'s (unsupported) python API"
   ]
  },
  {
   "cell_type": "code",
   "execution_count": null,
   "metadata": {},
   "outputs": [],
   "source": [
    "#export\n",
    "\n",
    "\n",
    "@app.command()\n",
    "def build_tables(args: typing.List[str] = typer.Option([], help='Additional arguments passed to `dbt run`')):\n",
    "    \"\"\" Build tables from base data using dbt \"\"\"\n",
    "    \n",
    "    project_dir = pyprojroot.here()/'dbt'\n",
    "    profiles_dir = pyprojroot.here()/'.dbt'\n",
    "    \n",
    "    base_args = [\n",
    "        'run', \n",
    "        '--profiles-dir', \n",
    "        str(profiles_dir), \n",
    "        '--project-dir', \n",
    "        str(project_dir)\n",
    "    ]\n",
    "    \n",
    "    # NOTE: Python API is not officially supported, so\n",
    "    # watch out if you change dbt versions...\n",
    "    _ = dbt.main.handle_and_check(base_args + list(args))"
   ]
  },
  {
   "cell_type": "markdown",
   "metadata": {},
   "source": [
    "## Ingest\n",
    "\n",
    "Ingest base understat data and build understat tables from base data"
   ]
  },
  {
   "cell_type": "code",
   "execution_count": null,
   "metadata": {},
   "outputs": [],
   "source": [
    "#export\n",
    "\n",
    "\n",
    "_DEFAULT_INGEST_LEAGUES = [l.value for l in understatdb.understat.League]\n",
    "_DEFAULT_INGEST_SEASONS = list(range(2014, 2021))\n",
    "\n",
    "\n",
    "@app.command()\n",
    "def ingest(\n",
    "    refresh: bool = False,\n",
    "    leagues: typing.List[str] = typer.Option(_DEFAULT_INGEST_LEAGUES, help='Leagues to import'),\n",
    "    seasons: typing.List[int] = typer.Option(_DEFAULT_INGEST_SEASONS, help='Seasons to import (by start year)'),\n",
    "):\n",
    "    \"\"\" Ingest match and shot data from Understat.com \"\"\"\n",
    "    \n",
    "    initialize_db()\n",
    "    client = understatdb.understat.Understat()\n",
    "    \n",
    "    for league, season in itertools.product(\n",
    "        [understatdb.understat.League(l) for l in leagues], \n",
    "        seasons\n",
    "    ):\n",
    "        # Add league & season to DB\n",
    "        with understatdb.db.DB.atomic():\n",
    "            db_league, _ = understatdb.db.League.get_or_create(name=league.value)\n",
    "            db_season, _ = understatdb.db.Season.get_or_create(name=season)\n",
    "        \n",
    "        # Check if a record for this league and season already exists. If so, skip it.\n",
    "        existing_record = understatdb.db.Matches.get_or_none(\n",
    "            league_id=db_league.id, \n",
    "            season_id=db_season.id\n",
    "        )\n",
    "        if not refresh and existing_record:\n",
    "            typer.secho(\n",
    "                f'Data for {league.value}, {season} already exists. Skipping. '\n",
    "                'To update data for this league and season, use the `--refresh` flag', \n",
    "                fg=typer.colors.BRIGHT_BLACK\n",
    "            )\n",
    "            continue\n",
    "            \n",
    "        # Add match and shot data to DB\n",
    "        typer.secho(f'Ingesting data for {league.value}, {season}', fg=typer.colors.BLUE)\n",
    "        with understatdb.db.DB.atomic():\n",
    "            \n",
    "            # Fetch match data from understat\n",
    "            matches = client.matches(league, season)\n",
    "            \n",
    "            # Delete any old match data\n",
    "            if refresh:\n",
    "                understatdb.db.Matches.delete().where(\n",
    "                    (understatdb.db.Matches.league_id==db_league.id) &\n",
    "                    (understatdb.db.Matches.season_id==db_season.id)\n",
    "                ).execute()\n",
    "                \n",
    "            db_matches = understatdb.db.Matches.create(\n",
    "                league_id=db_league.id,\n",
    "                season_id=db_season.id,\n",
    "                json=matches,\n",
    "                version=understatdb.__version__\n",
    "            )\n",
    "            \n",
    "            with typer.progressbar(matches, label=\"Shots\") as progress:\n",
    "                for match in progress:\n",
    "                    if not match['isResult']:\n",
    "                        continue\n",
    "                    \n",
    "                    # Add an artificial crawl delay to avoid bombarding \n",
    "                    # understat with requests\n",
    "                    # There's no robots.txt or ToS available on the site,\n",
    "                    # So we just use a relatively conservative delay of\n",
    "                    # 5 seconds per (shots) request\n",
    "                    time.sleep(5)\n",
    "                    \n",
    "                    match_id = int(match['id'])\n",
    "                    shots = client.shots(match_id)\n",
    "                    \n",
    "                    # Delete any old shots data\n",
    "                    if refresh:\n",
    "                        understatdb.db.Shots.delete().where(\n",
    "                            understatdb.db.Shots.match_id==match_id\n",
    "                        ).execute()\n",
    "                    \n",
    "                    db_shots = understatdb.db.Shots.create(\n",
    "                        match_id=match_id,\n",
    "                        json=shots,\n",
    "                        version=understatdb.__version__\n",
    "                    )\n",
    "        \n",
    "        # Rebuild tables in dbt\n",
    "        build_tables(args=[])"
   ]
  },
  {
   "cell_type": "markdown",
   "metadata": {},
   "source": [
    "---\n",
    "\n",
    "Finally, make the app executable from the command line"
   ]
  },
  {
   "cell_type": "code",
   "execution_count": null,
   "metadata": {},
   "outputs": [],
   "source": [
    "#export\n",
    "\n",
    "# Try/except block seems to be the 'canonical'\n",
    "# way to export __name__ == __main__ in nbdev.\n",
    "# By excepting an ImportError, we don't have to\n",
    "# include nbdev as a runtime dependency (only a\n",
    "# development dependency).\n",
    "# \n",
    "# See: \n",
    "#  * https://pete88b.github.io/fastpages/nbdev/fastai/jupyter/2020/07/24/nbdev-deep-dive.html#Export-a-if-__name__-==-\n",
    "#  * https://forums.fast.ai/t/nbdev-is-there-a-way-to-export-a-if-name-main-clause/73050/3\n",
    "try:\n",
    "    from nbdev.imports import IN_NOTEBOOK\n",
    "except ImportError: \n",
    "    IN_NOTEBOOK = False\n",
    "\n",
    "if __name__ == '__main__' and not IN_NOTEBOOK:\n",
    "    dotenv.load_dotenv()\n",
    "    app()"
   ]
  },
  {
   "cell_type": "code",
   "execution_count": null,
   "metadata": {},
   "outputs": [],
   "source": []
  }
 ],
 "metadata": {
  "kernelspec": {
   "display_name": "Python 3",
   "language": "python",
   "name": "python3"
  }
 },
 "nbformat": 4,
 "nbformat_minor": 2
}
