{
 "cells": [
  {
   "cell_type": "code",
   "execution_count": null,
   "metadata": {},
   "outputs": [],
   "source": [
    "# default_exp app"
   ]
  },
  {
   "cell_type": "markdown",
   "metadata": {},
   "source": [
    "# Understat-DB CLI\n",
    "\n",
    "> CLI for creating a soccer database with data from understat.com"
   ]
  },
  {
   "cell_type": "code",
   "execution_count": null,
   "metadata": {},
   "outputs": [],
   "source": [
    "#hide\n",
    "from nbdev.showdoc import *"
   ]
  },
  {
   "cell_type": "markdown",
   "metadata": {},
   "source": [
    "Initialise the app with Typer"
   ]
  },
  {
   "cell_type": "code",
   "execution_count": null,
   "metadata": {},
   "outputs": [],
   "source": [
    "#export\n",
    "import os\n",
    "import dotenv\n",
    "import playhouse.postgres_ext\n",
    "import typer\n",
    "\n",
    "import understatdb.db\n",
    "\n",
    "\n",
    "app = typer.Typer()"
   ]
  },
  {
   "cell_type": "markdown",
   "metadata": {},
   "source": [
    "## Hello, world\n",
    "\n",
    "An example method"
   ]
  },
  {
   "cell_type": "code",
   "execution_count": null,
   "metadata": {},
   "outputs": [],
   "source": [
    "#export\n",
    "@app.command()\n",
    "def hello(name: str):\n",
    "    typer.echo(f'Hello, {name}!')"
   ]
  },
  {
   "cell_type": "markdown",
   "metadata": {},
   "source": [
    "Test the app using Typer's in-build CLI-runner"
   ]
  },
  {
   "cell_type": "code",
   "execution_count": null,
   "metadata": {},
   "outputs": [],
   "source": [
    "import typer.testing\n",
    "\n",
    "runner = typer.testing.CliRunner()\n",
    "result = runner.invoke(app, ['World'])\n",
    "assert result.exit_code == 0\n",
    "assert 'Hello, World!' in result.output"
   ]
  },
  {
   "cell_type": "markdown",
   "metadata": {},
   "source": [
    "## Migrate\n",
    "\n",
    "Migrating the database"
   ]
  },
  {
   "cell_type": "code",
   "execution_count": null,
   "metadata": {},
   "outputs": [],
   "source": [
    "#export\n",
    "\n",
    "\n",
    "@app.command()\n",
    "def migrate(interactive: bool=True):\n",
    "    dotenv.load_dotenv()\n",
    "    \n",
    "    # Load database config from environment\n",
    "    postgres_db = playhouse.postgres_ext.PostgresqlExtDatabase(\n",
    "        host=os.environ['DB_HOST'],\n",
    "        user=os.environ['DB_USER'],\n",
    "        password=os.environ['DB_PASS'],\n",
    "        database=os.environ['DB_NAME'],\n",
    "        port=os.environ['DB_PORT'],\n",
    "    )\n",
    "\n",
    "    # Configure proxy database to use configured postgres\n",
    "    typer.secho('Initialising database connection...', fg=typer.colors.BRIGHT_BLACK)\n",
    "    understatdb.db.DB.initialize(postgres_db)\n",
    "    \n",
    "    # Migrate database tables\n",
    "    typer.secho('Migrating database tables...', fg=typer.colors.BRIGHT_BLACK)\n",
    "    understatdb.db.DB.evolve(\n",
    "        ignore_tables=understatdb.db.EVOLVE_IGNORE_TABLES,\n",
    "        interactive=interactive\n",
    "    )\n",
    "    typer.secho('Done!', fg=typer.colors.GREEN, bold=True)"
   ]
  },
  {
   "cell_type": "code",
   "execution_count": null,
   "metadata": {},
   "outputs": [
    {
     "data": {
      "text/plain": [
       "True"
      ]
     },
     "execution_count": null,
     "metadata": {},
     "output_type": "execute_result"
    }
   ],
   "source": [
    "dotenv.load_dotenv()"
   ]
  },
  {
   "cell_type": "markdown",
   "metadata": {},
   "source": [
    "---\n",
    "\n",
    "Finally, make the app executable from the command line"
   ]
  },
  {
   "cell_type": "code",
   "execution_count": null,
   "metadata": {},
   "outputs": [],
   "source": [
    "#export\n",
    "\n",
    "# Try/except block seems to be the 'canonical'\n",
    "# way to export __name__ == __main__ in nbdev.\n",
    "# By excepting an ImportError, we don't have to\n",
    "# include nbdev as a runtime dependency (only a\n",
    "# development dependency).\n",
    "# \n",
    "# See: \n",
    "#  * https://pete88b.github.io/fastpages/nbdev/fastai/jupyter/2020/07/24/nbdev-deep-dive.html#Export-a-if-__name__-==-\n",
    "#  * https://forums.fast.ai/t/nbdev-is-there-a-way-to-export-a-if-name-main-clause/73050/3\n",
    "try:\n",
    "    from nbdev.imports import IN_NOTEBOOK\n",
    "except ImportError: \n",
    "    IN_NOTEBOOK = False\n",
    "\n",
    "if __name__ == '__main__' and not IN_NOTEBOOK:\n",
    "    app()"
   ]
  },
  {
   "cell_type": "code",
   "execution_count": null,
   "metadata": {},
   "outputs": [],
   "source": []
  }
 ],
 "metadata": {
  "kernelspec": {
   "display_name": "Python 3",
   "language": "python",
   "name": "python3"
  }
 },
 "nbformat": 4,
 "nbformat_minor": 2
}
