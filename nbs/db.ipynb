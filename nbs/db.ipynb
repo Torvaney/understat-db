{
 "cells": [
  {
   "cell_type": "code",
   "execution_count": null,
   "id": "aed8359a",
   "metadata": {},
   "outputs": [],
   "source": [
    "# default_exp db"
   ]
  },
  {
   "cell_type": "markdown",
   "id": "c5a1fc64",
   "metadata": {},
   "source": [
    "# Database\n",
    "\n",
    "> Database schema and so on"
   ]
  },
  {
   "cell_type": "code",
   "execution_count": null,
   "id": "71781ec1",
   "metadata": {},
   "outputs": [],
   "source": [
    "#hide\n",
    "from nbdev.showdoc import *"
   ]
  },
  {
   "cell_type": "markdown",
   "id": "734138bc",
   "metadata": {},
   "source": []
  },
  {
   "cell_type": "code",
   "execution_count": null,
   "id": "11c00bde",
   "metadata": {},
   "outputs": [],
   "source": [
    "#export\n",
    "import functools\n",
    "\n",
    "import peewee\n",
    "import peeweedbevolve\n",
    "import playhouse.postgres_ext\n",
    "\n",
    "\n",
    "DB = peewee.DatabaseProxy()"
   ]
  },
  {
   "cell_type": "code",
   "execution_count": null,
   "id": "91deeead",
   "metadata": {},
   "outputs": [],
   "source": [
    "#export\n",
    "\n",
    "EVOLVE_IGNORE_TABLES = []\n",
    "\n",
    "\n",
    "def evolve_ignore(cls, registry=EVOLVE_IGNORE_TABLES):\n",
    "    registry.append(cls._meta.table_name)\n",
    "    return cls\n",
    "\n",
    "\n",
    "def prefixed_snake_case(prefix, cls):\n",
    "    return prefix + peewee.make_snake_case(cls.__name__)\n",
    "\n",
    "\n",
    "@evolve_ignore\n",
    "class BaseModel(peewee.Model):\n",
    "    \"\"\"\n",
    "    A model for base (json) data from Understat\n",
    "    \"\"\"\n",
    "    class Meta:\n",
    "        database = DB\n",
    "        legacy_table_names = False\n",
    "        table_function = functools.partial(prefixed_snake_case, 'base_')"
   ]
  },
  {
   "cell_type": "code",
   "execution_count": null,
   "id": "dd83c059",
   "metadata": {},
   "outputs": [],
   "source": [
    "#export\n",
    "\n",
    "\n",
    "class League(BaseModel):\n",
    "    id = peewee.PrimaryKeyField()\n",
    "    name = peewee.TextField()"
   ]
  },
  {
   "cell_type": "code",
   "execution_count": null,
   "id": "dc294dd3",
   "metadata": {},
   "outputs": [],
   "source": [
    "#export\n",
    "\n",
    "\n",
    "class Season(BaseModel):\n",
    "    id = peewee.PrimaryKeyField()\n",
    "    name = peewee.TextField()"
   ]
  },
  {
   "cell_type": "code",
   "execution_count": null,
   "id": "26e2dee4",
   "metadata": {},
   "outputs": [],
   "source": [
    "#export\n",
    "\n",
    "\n",
    "class Matches(BaseModel):\n",
    "    id = peewee.PrimaryKeyField()\n",
    "    \n",
    "    # Since we're ingesting the data before reshaping\n",
    "    # and testing with dbt (ELT not ETL), we might prefer \n",
    "    # flexibility to the correctness that a FK provides.\n",
    "    # But since understat don't actually provide any\n",
    "    # IDs (afaik, it's all indexed by league *name*),\n",
    "    # we're going to be making our own IDs at some point\n",
    "    # anyway. So I prefer to do that with the guarantees\n",
    "    # of a FK.\n",
    "    league_id = peewee.ForeignKeyField(League)\n",
    "    \n",
    "    # Similar logic to above (`league_id`),\n",
    "    # we're creating our own season IDs.\n",
    "    # Understat indexes by season start year,\n",
    "    # so we could conceivably just use an \n",
    "    # integer field and refactor if that assumption\n",
    "    # is ever violated.\n",
    "    season_id = peewee.ForeignKeyField(Season)\n",
    "    \n",
    "    # Dump the scraped JSON as JSON\n",
    "    # We'll clean it up in dbt\n",
    "    json = playhouse.postgres_ext.JSONField()\n",
    "    \n",
    "    # Store the app version, so that we can parse\n",
    "    # the JSON differently should the format change in\n",
    "    # the future.\n",
    "    version = peewee.TextField()\n",
    "\n",
    "    class Meta:\n",
    "        indexes = (\n",
    "            # Force uniqueness on the combination of \n",
    "            # league and season ID.\n",
    "            # We should only ever have one row per\n",
    "            # league, per season!\n",
    "            (('league_id', 'season_id'), True),\n",
    "        )"
   ]
  },
  {
   "cell_type": "code",
   "execution_count": null,
   "id": "aaba8d21",
   "metadata": {},
   "outputs": [],
   "source": [
    "#export\n",
    "\n",
    "\n",
    "class Shots(BaseModel):\n",
    "    id = peewee.PrimaryKeyField()\n",
    "    \n",
    "    # This time, we're using Understat's IDs,\n",
    "    # so we aren't interested in using a FK for\n",
    "    # match ID.\n",
    "    match_id = peewee.IntegerField(unique=True)\n",
    "    \n",
    "    # Dump the scraped JSON as JSON again\n",
    "    json = playhouse.postgres_ext.JSONField()\n",
    "    \n",
    "    version = peewee.TextField()"
   ]
  }
 ],
 "metadata": {
  "kernelspec": {
   "display_name": "Python 3",
   "language": "python",
   "name": "python3"
  }
 },
 "nbformat": 4,
 "nbformat_minor": 5
}
