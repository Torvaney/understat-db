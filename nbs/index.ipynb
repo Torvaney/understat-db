{
 "cells": [
  {
   "cell_type": "markdown",
   "metadata": {},
   "source": [
    "# Understat DB\n",
    "\n",
    "> Create a database using data from [Understat](understat.com).\n",
    "\n",
    "\n",
    "Understat DB is a project that allows you to scrape data from [Understat](understat.com) and store it in a Postgres database."
   ]
  },
  {
   "cell_type": "markdown",
   "metadata": {},
   "source": [
    "## Usage\n",
    "\n",
    "The simplest way to get started is to populate a local database with `docker-compose`.\n",
    "\n",
    "First, clone the repository:\n",
    "\n",
    "```bash\n",
    "git clone https://github.com/Torvaney/understat-db.git\n",
    "cd understat-db\n",
    "```\n",
    "\n",
    "Then, setup the local environment\n",
    "\n",
    "```bash\n",
    "make env                 # Creates a virtualenv and installs the project & dependencies\n",
    "cp .env.sample .env      # Copy default environment vars to .env\n",
    "```\n",
    "\n",
    "Run the database\n",
    "\n",
    "```bash\n",
    "docker-compose up -d db  # Starts a postgres database within a docker container\n",
    "understat-db migrate     # Creates base database tables\n",
    "```\n",
    "\n",
    "Finally, import the data you want\n",
    "\n",
    "```bash\n",
    "understat-db ingest --leagues EPL --seasons 2020\n",
    "```\n",
    "\n",
    "\n",
    "## Contributing\n",
    "\n",
    "Pull requests are encouraged! For major changes, please open an issue first to discuss what you would like to change.\n",
    "\n",
    "## License\n",
    "\n",
    "[MIT](https://choosealicense.com/licenses/mit/)"
   ]
  }
 ],
 "metadata": {
  "kernelspec": {
   "display_name": "Python 3",
   "language": "python",
   "name": "python3"
  }
 },
 "nbformat": 4,
 "nbformat_minor": 2
}
